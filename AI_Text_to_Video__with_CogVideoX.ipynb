{
 "cells": [
  {
   "cell_type": "code",
   "execution_count": 1,
   "metadata": {
    "colab": {
     "base_uri": "https://localhost:8080/"
    },
    "id": "LPFCLWeyzpHx",
    "outputId": "3b6d0618-0c94-41b9-b0b7-2ff040a81c57"
   },
   "outputs": [
    {
     "name": "stdout",
     "output_type": "stream",
     "text": [
      "\u001b[?25l   \u001b[90m━━━━━━━━━━━━━━━━━━━━━━━━━━━━━━━━━━━━━━━━\u001b[0m \u001b[32m0.0/2.6 MB\u001b[0m \u001b[31m?\u001b[0m eta \u001b[36m-:--:--\u001b[0m\r",
      "\u001b[2K   \u001b[91m━━━━━━━━\u001b[0m\u001b[90m╺\u001b[0m\u001b[90m━━━━━━━━━━━━━━━━━━━━━━━━━━━━━━━\u001b[0m \u001b[32m0.5/2.6 MB\u001b[0m \u001b[31m16.6 MB/s\u001b[0m eta \u001b[36m0:00:01\u001b[0m\r",
      "\u001b[2K   \u001b[91m━━━━━━━━━━━━━━━━━━━━━━━━━━━━━━━━━━━━━━━\u001b[0m\u001b[91m╸\u001b[0m \u001b[32m2.6/2.6 MB\u001b[0m \u001b[31m43.5 MB/s\u001b[0m eta \u001b[36m0:00:01\u001b[0m\r",
      "\u001b[2K   \u001b[90m━━━━━━━━━━━━━━━━━━━━━━━━━━━━━━━━━━━━━━━━\u001b[0m \u001b[32m2.6/2.6 MB\u001b[0m \u001b[31m33.8 MB/s\u001b[0m eta \u001b[36m0:00:00\u001b[0m\n",
      "\u001b[?25h"
     ]
    }
   ],
   "source": [
    "!pip install torch torchvision torchaudio --upgrade --quiet\n",
    "!pip install diffusers==0.30.0 transformers accelerate imageio[ffmpeg] --quiet"
   ]
  },
  {
   "cell_type": "code",
   "execution_count": 2,
   "metadata": {
    "id": "y_y8Ps-Y16O_"
   },
   "outputs": [],
   "source": [
    "import torch\n",
    "from diffusers import CogVideoXPipeline\n",
    "from diffusers.utils import export_to_video\n",
    "import os\n",
    "import imageio"
   ]
  },
  {
   "cell_type": "code",
   "execution_count": 3,
   "metadata": {
    "colab": {
     "base_uri": "https://localhost:8080/"
    },
    "id": "4n_Pu9Wb1-E7",
    "outputId": "13fcea13-f5d3-43f9-e62b-c5de2249bdc8"
   },
   "outputs": [
    {
     "name": "stdout",
     "output_type": "stream",
     "text": [
      "✅ GPU is available: Tesla T4\n"
     ]
    }
   ],
   "source": [
    "import torch\n",
    "\n",
    "if torch.cuda.is_available():\n",
    "    device_name = torch.cuda.get_device_name(0)\n",
    "    print(\"✅ GPU is available:\", device_name)\n",
    "else:\n",
    "    print(\"❌ No GPU found. Go to Runtime > Change runtime type > select GPU\")"
   ]
  },
  {
   "cell_type": "code",
   "execution_count": 4,
   "metadata": {
    "id": "QRSm9CvT2BdH"
   },
   "outputs": [],
   "source": [
    "prompt = \"\"\"\n",
    "A panda, dressed in a small, red jacket and a tiny hat, sits on a wooden stool in a\n",
    "serene bamboo forest. The panda's fluffy paws strum a miniature acoustic guitar,\n",
    "producing soft, melodic tunes. Nearby, a few other pandas gather, watching curiously\n",
    "and some clapping in rhythm. Sunlight filters through the tall bamboo, casting a gentle\n",
    "glow on the scene. The panda's face is expressive, showing concentration and joy as it plays.\n",
    "The background includes a small, flowing stream and vibrant green foliage, enhancing the peaceful\n",
    "and magical atmosphere of this unique musical performance.\n",
    "\"\"\""
   ]
  },
  {
   "cell_type": "code",
   "execution_count": 5,
   "metadata": {
    "colab": {
     "base_uri": "https://localhost:8080/",
     "height": 720,
     "referenced_widgets": [
      "97da2d4aefad407e8b28e7d59822d344",
      "7d4188dbb63944ddbcb5dc5ebb435188",
      "fad250632d2644adb930ff885946c0d7",
      "77c546a4eeb5425fbc2e86a45a7d2218",
      "088e73bf75e04ed7a946fd33115b7359",
      "d6cca18244454006a16f05490d0615d9",
      "5590c259081549e4a7cd054dac4145a7",
      "57f3f9c107c54447a3b4ba985a726cc7",
      "7957e70d9f8c4a65a6dfd68e79f38447",
      "0126c4bfd77b43529e5156cfa5b1e387",
      "f763e41b238647ed9d021dd6e1b9af8e",
      "45c917237e074bea8c5638a4b5620bc8",
      "fab98ce6539b49b68ee87e8c560c027c",
      "a8855cf029a8475eb65ce4d4251c0a4f",
      "788920d87e2e45a6aa55f6ba559a21b3",
      "a6f732d7c150499ebb1b8314026e5d32",
      "224076ea8f6b4fb19db75d487963fbf4",
      "831aa675700840a88291e55d399390f4",
      "8f89e657c6ee41d692cea62679e19e3e",
      "25f630b8d8024457b4b3c6031dd205b3",
      "65e291a18b0741169d29366da0df09f4",
      "312953afe2c94138879c81b70b930d5d",
      "609675e0bf5b4778a7d9a346320ee711",
      "d9cdfc4991e54b73b6ddd830654e60c1",
      "6e0a69a89bbc4187a66c06ceb16dd121",
      "9f93ae30636c48f396d463d12ebafa04",
      "4313e19486824c03a184c48c62c78522",
      "011263b7cecb476ea29136df09006ef2",
      "6a5a876eca1c47148089a9d34f4b2e44",
      "e51e710f0ee749aab12187d49e26afd1",
      "aba36830cfca4d159bb4ed8b32533627",
      "2bfe6c5b344b4b00abe43d9387098478",
      "53bac1fd2de34ad29abe6d64acdb6c6f",
      "b22e02a88cb0451790d7dbe90fa84b68",
      "87d6cf00671c466a9a9abd6b08a67bd4",
      "911b947772c2477796d65002efa10f63",
      "e63142dec0f74af3a97fd65e3293d847",
      "d644d4478c494d85ba0db4e08d7561cf",
      "b2bf2ff30b98445fb979d7c0f60fa146",
      "7e70bb8a312f4d4fab3a98b07a868c1e",
      "ba89f5d8eee344d7bce8c6edc4d94dd3",
      "24c4d6e4f856499587f3030ed9eae7df",
      "f72e9d74a95c49488202c2642dbea5dc",
      "6cf3f7a77a384b458256870a804f79c5",
      "bacc7c83b89143d096bd93b3700993e4",
      "e6b810b9dde54c8ba43054be37e4f55a",
      "255f9174b31945388f89e6f6ab545b97",
      "6a0889e5fd97455e903c7e88f541bed8",
      "02b930e5a3cc42cc85f4eed8ba087e33",
      "aec2f16b102442518e2a08cf6c6ae4f4",
      "b25b7af1d3d2421ba91ccf2578a34741",
      "a2407374e0934108ab7878d4ee82f535",
      "85abf8d26cc645ba829333648e38ec99",
      "44b0bac292ba432a8a32d549ccaa95d4",
      "4a10080d87c44d369101453ac7af2f9d",
      "f87c38f6390742f19350231386315a4f",
      "51ab3f713a5e4b7389b84d473591721b",
      "5f2e77d571724b4fb785fc47ed8db66f",
      "0b87e9f3b30148c892d21bd59fb581e4",
      "5d54f144b10d491989895d5d2c449926",
      "277093a8bab74012a410d7aed57132e4",
      "57fffc03dc544d25a5677869299918b3",
      "5e449d66ad3448c599cf00ceea205a78",
      "9da1858c1de148e18ab2b1f11af081d5",
      "6434dca722ad4fbe8bedfd83dfa2a69c",
      "90c1a041a39648be95711abebc30c5f8",
      "4e5bd5599115402d8f29ff2996f272ef",
      "fbf7247efc5e4f619184d4b22f971902",
      "b3525a57ae4d4b70af64b8b6b58ac389",
      "62e16ff3c711483db0479ab8d3c7e9e4",
      "7aa75d3cfb154ee1994c9dcfc483d8c2",
      "02a12876adbb41998b9d1a3472396c8e",
      "59523c4198ef40de9bf19423cd47f5b3",
      "3cb41153b9a34e85a5aa54521b601792",
      "dde984a4b5404012a6f2ef090f239496",
      "a9a59b1a32784c9a80721a1a31d539aa",
      "e7d20d1ac5a54a0ca0fa271dfce587af",
      "d41649f105684aaaa3d5f448b716b9ed",
      "6ef04e9eec7d4183b14513ce9f4c5758",
      "e00b591a6d894628b916ec2cbe6f7027",
      "c5093baa1d3247c1b8f4528d534d6847",
      "a932f13dc8584f56a287f5ac57e32014",
      "9738d8370a754617ae625b948e82e2e4",
      "1040f1909bf6492d90eb8eb8a79ba411",
      "030e8b7c80224ad0a91b3135c39139a9",
      "574ff7cb2a3f46928d03fad7b1a15322",
      "ecd3208ed5b043d5b7eda023f898ec4f",
      "34dacd58586b4c96b1c3dba4f7d97b58",
      "8d713b092aa940848f0ed8b032ed2e3f",
      "536c6cf81dbb4ed3a9a48e9e5fcc432a",
      "fb4a3a0a19204ab7bc231782a9341628",
      "846a6b59b65743c1a9ac81dd19a5ed16",
      "36b337ccd1944c1d82eae9b2cc84598d",
      "c9253611f3bf44d885f63d0a068e2c92",
      "044e17db8abe43b38ff0ac8d710815d6",
      "9327b2deca5141b2b258b7e61e41228b",
      "fc810ad6553a4100ad02463782d3c822",
      "5325a4ec614446eea5a604a12f07acec",
      "b830dd88c04946fa80934a40eb21b88e",
      "561380638dc6472c95f9790c9da77081",
      "5259034caed3483d9cd166349bce74c9",
      "f1bb2a084a514476b1302baa3fa4efdf",
      "acf0696075c24d8795524e161a95f5bc",
      "380aef19dd4f42f19bb245a7e046fdba",
      "413fe7dc1bd0457888508331ac0ea14b",
      "481831ea6d324daabc98ce1f0c5550fb",
      "2ba93efb47664d16aa12ed0673cc175d",
      "e8b537d10d98485b98992dd6db9fac3f",
      "3fe72e3fe38343a39f689eb823e70534",
      "3ed1ff6e23d947e397c3f699a9783e54",
      "2696bbc6ed2d4aae87b1c2b4c43af780",
      "1f18945349614a4eb15e606ef17d549f",
      "f91a786b72334648b52906dd28c36bed",
      "d91557d86da342f5a436d4dfb06fd520",
      "ab6b49b578ba48f18e0229c08ee18f43",
      "f665648e7c3f497ebb5713d23fae0864",
      "c17a40560a1b42a7ba46bb9327ac8504",
      "a9d0babd8e3b4980bbc5c0536a3dc877",
      "f20d3754e75b4179aa534ed520aa6858",
      "0d98801756e647b5808af42e43ae0646",
      "89c54737354f493fbb9c5ec5bed45a3a",
      "aef637902ab845e3822ab0c8589c2b14",
      "2b81c949ecb04aea819763778dd014a9",
      "2548ab092a8d44df8c2c906945dcfb10",
      "d5c97ad5bfac48b19b08d0605ac708bc",
      "caf1bb7576e946e497b8624eeff8d640",
      "c0e1dbd5fd13458daeeb2c35dd161f25",
      "c51279c8e0ba4ae0a4196bfe8a2bed95",
      "b911c266205540f399c8a7c0b3723dad",
      "72bb0432e4804c64b8394df418fa04d8",
      "1b5ca5e7332340f288a4db8f6d1d2c9c",
      "6c3e340b70f44d8d950e45434a91972d",
      "fb732702a2f24d869107e933b8581efe",
      "e85ce268159447a9aac1dab185e0ac7b",
      "45f2302360bd4dc480fca8f3bcc3a23c",
      "e0c776329a7c4fceae8bb349070519b4",
      "23623018042f4181bf42c6580a846e55",
      "9ef1c56657c64206a285d0d578eed77a",
      "7d6322e50db644a79c9d4b84631cd39f",
      "be596a3c67734921a520073ca9334fd2",
      "8908af79e5524d44a55153a05705adfa",
      "58163ab175494994b48fe1545d8e4d37",
      "4f7ee83d7a1840c49dbf2adefbaeb60d",
      "f27bb9ee2ec444cdac2eaa8e5d17660b",
      "e592f3ad75a94f728c69f55f0b33040a",
      "617df253c1a647ec8f4feb103afd363d",
      "721520ae64af4ca6835d812e9a0aa218",
      "6e9d6e48caa14c378d9244741590d107",
      "e89a2cb35e7f4874881ed015b98320f1",
      "b1213889cc9147c89cc5f5ef0d7df8a2",
      "53cfce23c1d5494f88b9b51bf041aebe",
      "94bb2d039a7946df8cf9aaa91ea18568",
      "c501ec19935d49e7bb9a0bd89e966b42",
      "22e4d2e8219f46dfa5261dc6f9381618",
      "105142a6bfe94d3c8f7076b94ba828f4",
      "017eca89bc4a40bbaf7de630005a09c0",
      "3f2772f9c3374f74b5a3bfa3509fb8e0",
      "6b64d57ec9994ae7a72901388bc14c4f",
      "b859647f8ae446e193b74f72ff6dc30f",
      "b2a90211bac54925ba0c02d375c66d7f",
      "6b1a9f86061d4875813f3aa47d4b0a9b",
      "90e2f1e37af042bf8bbbf722e09c6515",
      "e60a085dc2da49fa9d9cddb91eda65b5",
      "03978e66bd0e47b6910c4cc0a864dd6d",
      "9ad782e8619f4a4a9bff24437fcb80ab",
      "676b5e78ec4a47a09e3124f4f6e3419f",
      "b50e3cb6d6fd40a682159df7bd9c9d7d",
      "ef878104416b4ecf8f39e01c597541b7",
      "42782d2fe5894d4d9362efa83a02fcfe",
      "612c2398755c4560826dea593d9cc963",
      "7b4f30445c7546aaa7b8a4e655eefd5b",
      "679136cd10fc460a8657aa67542ebb44",
      "8ef1d67c78dd48faa0565b1475f7a567",
      "5ff401dd0bed49d8aea88c6c79c1146d",
      "d136e89c0ef844a28705ebbb99364e28",
      "775166e7fb054a099db756f4faee0ac0",
      "fc0376bc0e074ebd87f613936dfa3a1c",
      "4fc6727354c4474ea7bffceaff481261",
      "f5e29c73d4804101bd3ab38fcd3677f2",
      "1521603a4f544fe5baa5cd9cc4ce041d",
      "ff1c59c301334d6aac84a66689d6c3f6",
      "7539bf02849f42c7afd5745a5dec4bc8",
      "df314acd9da64ce29d003a8e9894543b",
      "c6769ae3ea5a4e5f9efbeeb18c697cfb",
      "2a90c3818ec7435a858159ecc85a4376",
      "15955650295f4b91bb771124802ba5ac",
      "2f37bfb2cc934d58a1c82038591ed576"
     ]
    },
    "id": "lheaoUiP2Fpz",
    "outputId": "1c14d83a-4e6b-4b9c-de23-25659cb4e14a"
   },
   "outputs": [
    {
     "name": "stderr",
     "output_type": "stream",
     "text": [
      "/usr/local/lib/python3.12/dist-packages/huggingface_hub/utils/_auth.py:94: UserWarning: \n",
      "The secret `HF_TOKEN` does not exist in your Colab secrets.\n",
      "To authenticate with the Hugging Face Hub, create a token in your settings tab (https://huggingface.co/settings/tokens), set it as secret in your Google Colab and restart your session.\n",
      "You will be able to reuse this secret in all of your notebooks.\n",
      "Please note that authentication is recommended but still optional to access public models or datasets.\n",
      "  warnings.warn(\n"
     ]
    },
    {
     "data": {
      "application/vnd.jupyter.widget-view+json": {
       "model_id": "97da2d4aefad407e8b28e7d59822d344",
       "version_major": 2,
       "version_minor": 0
      },
      "text/plain": [
       "model_index.json:   0%|          | 0.00/411 [00:00<?, ?B/s]"
      ]
     },
     "metadata": {},
     "output_type": "display_data"
    },
    {
     "data": {
      "application/vnd.jupyter.widget-view+json": {
       "model_id": "45c917237e074bea8c5638a4b5620bc8",
       "version_major": 2,
       "version_minor": 0
      },
      "text/plain": [
       "Fetching 14 files:   0%|          | 0/14 [00:00<?, ?it/s]"
      ]
     },
     "metadata": {},
     "output_type": "display_data"
    },
    {
     "data": {
      "application/vnd.jupyter.widget-view+json": {
       "model_id": "609675e0bf5b4778a7d9a346320ee711",
       "version_major": 2,
       "version_minor": 0
      },
      "text/plain": [
       "scheduler_config.json:   0%|          | 0.00/482 [00:00<?, ?B/s]"
      ]
     },
     "metadata": {},
     "output_type": "display_data"
    },
    {
     "data": {
      "application/vnd.jupyter.widget-view+json": {
       "model_id": "b22e02a88cb0451790d7dbe90fa84b68",
       "version_major": 2,
       "version_minor": 0
      },
      "text/plain": [
       "config.json:   0%|          | 0.00/783 [00:00<?, ?B/s]"
      ]
     },
     "metadata": {},
     "output_type": "display_data"
    },
    {
     "data": {
      "application/vnd.jupyter.widget-view+json": {
       "model_id": "bacc7c83b89143d096bd93b3700993e4",
       "version_major": 2,
       "version_minor": 0
      },
      "text/plain": [
       "model.safetensors.index.json: 0.00B [00:00, ?B/s]"
      ]
     },
     "metadata": {},
     "output_type": "display_data"
    },
    {
     "data": {
      "application/vnd.jupyter.widget-view+json": {
       "model_id": "f87c38f6390742f19350231386315a4f",
       "version_major": 2,
       "version_minor": 0
      },
      "text/plain": [
       "model-00002-of-00002.safetensors:   0%|          | 0.00/4.53G [00:00<?, ?B/s]"
      ]
     },
     "metadata": {},
     "output_type": "display_data"
    },
    {
     "data": {
      "application/vnd.jupyter.widget-view+json": {
       "model_id": "4e5bd5599115402d8f29ff2996f272ef",
       "version_major": 2,
       "version_minor": 0
      },
      "text/plain": [
       "special_tokens_map.json: 0.00B [00:00, ?B/s]"
      ]
     },
     "metadata": {},
     "output_type": "display_data"
    },
    {
     "data": {
      "application/vnd.jupyter.widget-view+json": {
       "model_id": "d41649f105684aaaa3d5f448b716b9ed",
       "version_major": 2,
       "version_minor": 0
      },
      "text/plain": [
       "model-00001-of-00002.safetensors:   0%|          | 0.00/4.99G [00:00<?, ?B/s]"
      ]
     },
     "metadata": {},
     "output_type": "display_data"
    },
    {
     "data": {
      "application/vnd.jupyter.widget-view+json": {
       "model_id": "8d713b092aa940848f0ed8b032ed2e3f",
       "version_major": 2,
       "version_minor": 0
      },
      "text/plain": [
       "added_tokens.json: 0.00B [00:00, ?B/s]"
      ]
     },
     "metadata": {},
     "output_type": "display_data"
    },
    {
     "data": {
      "application/vnd.jupyter.widget-view+json": {
       "model_id": "561380638dc6472c95f9790c9da77081",
       "version_major": 2,
       "version_minor": 0
      },
      "text/plain": [
       "spiece.model:   0%|          | 0.00/792k [00:00<?, ?B/s]"
      ]
     },
     "metadata": {},
     "output_type": "display_data"
    },
    {
     "data": {
      "application/vnd.jupyter.widget-view+json": {
       "model_id": "2696bbc6ed2d4aae87b1c2b4c43af780",
       "version_major": 2,
       "version_minor": 0
      },
      "text/plain": [
       "config.json:   0%|          | 0.00/879 [00:00<?, ?B/s]"
      ]
     },
     "metadata": {},
     "output_type": "display_data"
    },
    {
     "data": {
      "application/vnd.jupyter.widget-view+json": {
       "model_id": "aef637902ab845e3822ab0c8589c2b14",
       "version_major": 2,
       "version_minor": 0
      },
      "text/plain": [
       "tokenizer_config.json: 0.00B [00:00, ?B/s]"
      ]
     },
     "metadata": {},
     "output_type": "display_data"
    },
    {
     "data": {
      "application/vnd.jupyter.widget-view+json": {
       "model_id": "fb732702a2f24d869107e933b8581efe",
       "version_major": 2,
       "version_minor": 0
      },
      "text/plain": [
       "config.json:   0%|          | 0.00/758 [00:00<?, ?B/s]"
      ]
     },
     "metadata": {},
     "output_type": "display_data"
    },
    {
     "data": {
      "application/vnd.jupyter.widget-view+json": {
       "model_id": "f27bb9ee2ec444cdac2eaa8e5d17660b",
       "version_major": 2,
       "version_minor": 0
      },
      "text/plain": [
       "diffusion_pytorch_model.safetensors:   0%|          | 0.00/862M [00:00<?, ?B/s]"
      ]
     },
     "metadata": {},
     "output_type": "display_data"
    },
    {
     "data": {
      "application/vnd.jupyter.widget-view+json": {
       "model_id": "105142a6bfe94d3c8f7076b94ba828f4",
       "version_major": 2,
       "version_minor": 0
      },
      "text/plain": [
       "diffusion_pytorch_model.safetensors:   0%|          | 0.00/3.39G [00:00<?, ?B/s]"
      ]
     },
     "metadata": {},
     "output_type": "display_data"
    },
    {
     "data": {
      "application/vnd.jupyter.widget-view+json": {
       "model_id": "676b5e78ec4a47a09e3124f4f6e3419f",
       "version_major": 2,
       "version_minor": 0
      },
      "text/plain": [
       "Loading pipeline components...:   0%|          | 0/5 [00:00<?, ?it/s]"
      ]
     },
     "metadata": {},
     "output_type": "display_data"
    },
    {
     "name": "stderr",
     "output_type": "stream",
     "text": [
      "The config attributes {'use_rotary_positional_embeddings': False} were passed to CogVideoXTransformer3DModel, but are not expected and will be ignored. Please verify your config.json configuration file.\n",
      "The config attributes {'sample_height': 480, 'sample_width': 720, 'invert_scale_latents': False} were passed to AutoencoderKLCogVideoX, but are not expected and will be ignored. Please verify your config.json configuration file.\n"
     ]
    },
    {
     "data": {
      "application/vnd.jupyter.widget-view+json": {
       "model_id": "fc0376bc0e074ebd87f613936dfa3a1c",
       "version_major": 2,
       "version_minor": 0
      },
      "text/plain": [
       "Loading checkpoint shards:   0%|          | 0/2 [00:00<?, ?it/s]"
      ]
     },
     "metadata": {},
     "output_type": "display_data"
    }
   ],
   "source": [
    "pipe = CogVideoXPipeline.from_pretrained(\n",
    "    \"THUDM/CogVideoX-2b\",\n",
    "    torch_dtype=torch.float16\n",
    ")\n",
    "\n",
    "# ✅ Safe memory optimizations (no VAE slicing/tiling here)\n",
    "pipe.enable_model_cpu_offload()\n",
    "pipe.enable_sequential_cpu_offload()"
   ]
  },
  {
   "cell_type": "code",
   "execution_count": 6,
   "metadata": {
    "colab": {
     "base_uri": "https://localhost:8080/",
     "height": 133,
     "referenced_widgets": [
      "a24003e153cc4c20a67ff219c5eb42d2",
      "182d6a43a1e843ec9af45ef391304378",
      "e0c1621a014f4d7fa843d55e6f61044c",
      "50ad2d5ae0164473bb856a1eae72330f",
      "46553601792d4a969074bdd554170247",
      "5ab8e6c77ba94e8ebae1d5c63c48dbe0",
      "679276027c374c52b5e1cda44d552c49",
      "2b02ff02bfec4f40a8f0c8570d93b887",
      "ffc55e9fca7a447c804ed9cffb236af9",
      "ee82881621174b6ca6efc0766258a6f3",
      "6c07172934064d1c985c8df20c7c625b",
      "b212c125b1034a6c924d97c41c548e14",
      "005f6131b48e4b8b880e26bc34341eea",
      "79f0c3d737164c078cfb94bd9dbd8888",
      "082e05125587422798555d5c33e392e7",
      "a4baf27cc13b48c0802390d16aa43ff7",
      "a9f5d52c1fd54d448ea2f73176d15879",
      "d36081b5d10f4761b5aec4b6688135b6",
      "56b7d82d768144498f9d6acf328b1fb9",
      "2e1512a297b645328aab025312a3356a",
      "a47760520e834529bf9cebfd390eff2e",
      "626b84a4a55b4a019d1db715e2a478ab"
     ]
    },
    "id": "knlGgUaK2JVd",
    "outputId": "ce7a46b4-0070-4948-acd2-22734cccc1d7"
   },
   "outputs": [
    {
     "name": "stdout",
     "output_type": "stream",
     "text": [
      "🎬 Generating segment 1/2...\n"
     ]
    },
    {
     "data": {
      "application/vnd.jupyter.widget-view+json": {
       "model_id": "a24003e153cc4c20a67ff219c5eb42d2",
       "version_major": 2,
       "version_minor": 0
      },
      "text/plain": [
       "  0%|          | 0/50 [00:00<?, ?it/s]"
      ]
     },
     "metadata": {},
     "output_type": "display_data"
    },
    {
     "name": "stdout",
     "output_type": "stream",
     "text": [
      "🎬 Generating segment 2/2...\n"
     ]
    },
    {
     "data": {
      "application/vnd.jupyter.widget-view+json": {
       "model_id": "b212c125b1034a6c924d97c41c548e14",
       "version_major": 2,
       "version_minor": 0
      },
      "text/plain": [
       "  0%|          | 0/50 [00:00<?, ?it/s]"
      ]
     },
     "metadata": {},
     "output_type": "display_data"
    },
    {
     "name": "stdout",
     "output_type": "stream",
     "text": [
      "✅ 12-second video generated: output_full_12s.mp4\n"
     ]
    }
   ],
   "source": [
    "# 🎥 CogVideoX Text-to-Video Generation (12s Demo)\n",
    "\n",
    "# Parameters\n",
    "fps = 8                         # Frames per second (CogVideoX only supports fps=8)\n",
    "duration_seconds = 12           # Total video duration we want (12s in this case)\n",
    "segment_frames = 48             # Max frames per generation call (CogVideoX limit: ≤48 and divisible by 8)\n",
    "\n",
    "# Each segment = segment_frames / fps seconds\n",
    "# Example: 48 frames / 8 fps = 6 seconds per segment\n",
    "segment_duration = segment_frames // fps\n",
    "\n",
    "# Number of segments needed for the full video\n",
    "# Example: 12s / 6s = 2 segments\n",
    "num_segments = duration_seconds // segment_duration\n",
    "\n",
    "os.makedirs(\"segments\", exist_ok=True)\n",
    "\n",
    "all_frames = []\n",
    "\n",
    "# 🔁 Generate multiple segments\n",
    "for i in range(num_segments):\n",
    "    print(f\"🎬 Generating segment {i + 1}/{num_segments}...\")\n",
    "\n",
    "    video = pipe(\n",
    "        prompt=prompt,                 # The text prompt describing your scene\n",
    "        num_videos_per_prompt=1,       # Generate 1 video per call\n",
    "        num_inference_steps=50,        # Quality vs. speed trade-off (30 = faster, 50 = better)\n",
    "        num_frames=segment_frames,     # Always <=48 and multiple of 8\n",
    "        guidance_scale=6,              # Higher = closer to prompt, but less creative\n",
    "        generator=torch.Generator(device=\"cuda\").manual_seed(42 + i),  # Different seeds for variation\n",
    "    ).frames[0]\n",
    "\n",
    "    # Save each segment as an MP4\n",
    "    segment_path = f\"segments/segment_{i + 1}.mp4\"\n",
    "    export_to_video(video, segment_path, fps=fps)\n",
    "    all_frames.append(segment_path)\n",
    "\n",
    "# 📽️ Combine all segments into one continuous video\n",
    "output_path = f\"output_full_{duration_seconds}s.mp4\"\n",
    "with imageio.get_writer(output_path, fps=fps) as writer:\n",
    "    for segment in all_frames:\n",
    "        reader = imageio.get_reader(segment)\n",
    "        for frame in reader:\n",
    "            writer.append_data(frame)\n",
    "        reader.close()\n",
    "\n",
    "print(f\"✅ {duration_seconds}-second video generated: {output_path}\")\n"
   ]
  },
  {
   "cell_type": "code",
   "execution_count": 8,
   "metadata": {
    "colab": {
     "base_uri": "https://localhost:8080/",
     "height": 17
    },
    "id": "SSXy8ZdE2ORW",
    "outputId": "30a82a61-7962-4ec8-dbe1-85982b014d80"
   },
   "outputs": [
    {
     "data": {
      "application/javascript": [
       "\n",
       "    async function download(id, filename, size) {\n",
       "      if (!google.colab.kernel.accessAllowed) {\n",
       "        return;\n",
       "      }\n",
       "      const div = document.createElement('div');\n",
       "      const label = document.createElement('label');\n",
       "      label.textContent = `Downloading \"${filename}\": `;\n",
       "      div.appendChild(label);\n",
       "      const progress = document.createElement('progress');\n",
       "      progress.max = size;\n",
       "      div.appendChild(progress);\n",
       "      document.body.appendChild(div);\n",
       "\n",
       "      const buffers = [];\n",
       "      let downloaded = 0;\n",
       "\n",
       "      const channel = await google.colab.kernel.comms.open(id);\n",
       "      // Send a message to notify the kernel that we're ready.\n",
       "      channel.send({})\n",
       "\n",
       "      for await (const message of channel.messages) {\n",
       "        // Send a message to notify the kernel that we're ready.\n",
       "        channel.send({})\n",
       "        if (message.buffers) {\n",
       "          for (const buffer of message.buffers) {\n",
       "            buffers.push(buffer);\n",
       "            downloaded += buffer.byteLength;\n",
       "            progress.value = downloaded;\n",
       "          }\n",
       "        }\n",
       "      }\n",
       "      const blob = new Blob(buffers, {type: 'application/binary'});\n",
       "      const a = document.createElement('a');\n",
       "      a.href = window.URL.createObjectURL(blob);\n",
       "      a.download = filename;\n",
       "      div.appendChild(a);\n",
       "      a.click();\n",
       "      div.remove();\n",
       "    }\n",
       "  "
      ],
      "text/plain": [
       "<IPython.core.display.Javascript object>"
      ]
     },
     "metadata": {},
     "output_type": "display_data"
    },
    {
     "data": {
      "application/javascript": [
       "download(\"download_a69c381f-28cb-4233-8bbe-814d580b5f4a\", \"output_full_12s.mp4\", 1892191)"
      ],
      "text/plain": [
       "<IPython.core.display.Javascript object>"
      ]
     },
     "metadata": {},
     "output_type": "display_data"
    }
   ],
   "source": [
    "from google.colab import files\n",
    "files.download(\"output_full_12s.mp4\")"
   ]
  },
  {
   "cell_type": "code",
   "execution_count": null,
   "metadata": {
    "id": "MD83jDvI2RWD"
   },
   "outputs": [],
   "source": []
  }
 ],
 "metadata": {
  "accelerator": "GPU",
  "colab": {
   "gpuType": "T4",
   "provenance": []
  },
  "kernelspec": {
   "display_name": "Python 3",
   "name": "python3"
  },
  "language_info": {
   "name": "python"
  }
 },
 "nbformat": 4,
 "nbformat_minor": 0
}
